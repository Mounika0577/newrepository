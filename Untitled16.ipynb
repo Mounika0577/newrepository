{
  "nbformat": 4,
  "nbformat_minor": 0,
  "metadata": {
    "colab": {
      "name": "Untitled16.ipynb",
      "provenance": [],
      "authorship_tag": "ABX9TyP86cXsLPEiyeiAJO53mVMF",
      "include_colab_link": true
    },
    "kernelspec": {
      "name": "python3",
      "display_name": "Python 3"
    },
    "language_info": {
      "name": "python"
    }
  },
  "cells": [
    {
      "cell_type": "markdown",
      "metadata": {
        "id": "view-in-github",
        "colab_type": "text"
      },
      "source": [
        "<a href=\"https://colab.research.google.com/github/Mounika0577/newrepository/blob/main/Untitled16.ipynb\" target=\"_parent\"><img src=\"https://colab.research.google.com/assets/colab-badge.svg\" alt=\"Open In Colab\"/></a>"
      ]
    },
    {
      "cell_type": "code",
      "metadata": {
        "id": "UZH1cLzCXf6V"
      },
      "source": [
        "import cv2\n",
        "\n"
      ],
      "execution_count": 37,
      "outputs": []
    },
    {
      "cell_type": "code",
      "metadata": {
        "id": "PEDec3w2bgm3"
      },
      "source": [
        "path =\"black-dot1.jpg\"\n",
        "gray = cv2.imread(path, 0)"
      ],
      "execution_count": 25,
      "outputs": []
    },
    {
      "cell_type": "code",
      "metadata": {
        "id": "NBW2CzVObkGT"
      },
      "source": [
        "th, threshed = cv2.threshold(gray, 100, 255,\n",
        "\tcv2.THRESH_BINARY_INV|cv2.THRESH_OTSU)"
      ],
      "execution_count": 26,
      "outputs": []
    },
    {
      "cell_type": "code",
      "metadata": {
        "id": "AjXO-Q0cbp-9"
      },
      "source": [
        "cnts = cv2.findContours(threshed, cv2.RETR_LIST,\n",
        "\t\t\t\t\tcv2.CHAIN_APPROX_SIMPLE)[-2]"
      ],
      "execution_count": 27,
      "outputs": []
    },
    {
      "cell_type": "code",
      "metadata": {
        "colab": {
          "base_uri": "https://localhost:8080/"
        },
        "id": "FF9jJezLbu2Z",
        "outputId": "969f822d-f045-49c3-d65b-e75762557c36"
      },
      "source": [
        "s1 = 3\n",
        "s2 = 20\n",
        "xcnts = []\n",
        "for cnt in cnts:\n",
        "\tif s1<cv2.contourArea(cnt) <s2:\n",
        "\t\txcnts.append(cnt)\n",
        "print(\"\\nDots number: {}\".format(len(xcnts)))\n",
        "\n"
      ],
      "execution_count": 28,
      "outputs": [
        {
          "output_type": "stream",
          "name": "stdout",
          "text": [
            "\n",
            "Dots number: 23\n"
          ]
        }
      ]
    },
    {
      "cell_type": "code",
      "metadata": {
        "id": "8Dd1KgerXf-l"
      },
      "source": [
        "import cv2\n",
        "path =\"white-dot.png\"\n",
        "\n",
        "# reading the image in grayscale mode\n",
        "gray = cv2.imread(path, 0)\n",
        "\n",
        "# threshold\n",
        "th, threshed = cv2.threshold(gray, 100, 255,\n",
        "\t\tcv2.THRESH_BINARY|cv2.THRESH_OTSU)\n",
        "\n",
        "\n"
      ],
      "execution_count": 35,
      "outputs": []
    },
    {
      "cell_type": "code",
      "metadata": {
        "id": "baNIswRyXgEC"
      },
      "source": [
        "cnts = cv2.findContours(threshed, cv2.RETR_LIST,\n",
        "\t\t\t\t\tcv2.CHAIN_APPROX_SIMPLE)[-2]"
      ],
      "execution_count": 34,
      "outputs": []
    },
    {
      "cell_type": "code",
      "metadata": {
        "colab": {
          "base_uri": "https://localhost:8080/"
        },
        "id": "dHyQTUqxXgK2",
        "outputId": "39549c1e-4877-4c94-f49d-7fee62810b6c"
      },
      "source": [
        "s1 = 3\n",
        "s2 = 20\n",
        "xcnts = []\n",
        "\n",
        "for cnt in cnts:\n",
        "\tif s1<cv2.contourArea(cnt) <s2:\n",
        "\t\txcnts.append(cnt)\n",
        "\n",
        "# printing output\n",
        "print(\"\\nDots number: {}\".format(len(xcnts)))"
      ],
      "execution_count": 36,
      "outputs": [
        {
          "output_type": "stream",
          "name": "stdout",
          "text": [
            "\n",
            "Dots number: 583\n"
          ]
        }
      ]
    }
  ]
}